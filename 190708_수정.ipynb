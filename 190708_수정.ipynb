{
 "cells": [
  {
   "cell_type": "code",
   "execution_count": 1,
   "metadata": {},
   "outputs": [
    {
     "data": {
      "text/plain": [
       "'C:\\\\대학원\\\\2019-1\\\\1.전공\\\\2.데이터마이닝\\\\project\\\\도로\\\\result'"
      ]
     },
     "execution_count": 1,
     "metadata": {},
     "output_type": "execute_result"
    }
   ],
   "source": [
    "import os\n",
    "\n",
    "os.chdir('C:/대학원/2019-1/1.전공/2.데이터마이닝/project/도로/result')\n",
    "os.getcwd()"
   ]
  },
  {
   "cell_type": "code",
   "execution_count": 3,
   "metadata": {},
   "outputs": [
    {
     "ename": "KeyboardInterrupt",
     "evalue": "",
     "output_type": "error",
     "traceback": [
      "\u001b[1;31m---------------------------------------------------------------------------\u001b[0m",
      "\u001b[1;31mKeyboardInterrupt\u001b[0m                         Traceback (most recent call last)",
      "\u001b[1;32m<ipython-input-3-69d7946879ea>\u001b[0m in \u001b[0;36m<module>\u001b[1;34m\u001b[0m\n\u001b[0;32m     12\u001b[0m \u001b[0mcar10\u001b[0m \u001b[1;33m=\u001b[0m \u001b[0mpd\u001b[0m\u001b[1;33m.\u001b[0m\u001b[0mread_csv\u001b[0m\u001b[1;33m(\u001b[0m\u001b[1;34m'car10.csv'\u001b[0m\u001b[1;33m)\u001b[0m\u001b[1;33m\u001b[0m\u001b[1;33m\u001b[0m\u001b[0m\n\u001b[0;32m     13\u001b[0m \u001b[0mcar11\u001b[0m \u001b[1;33m=\u001b[0m \u001b[0mpd\u001b[0m\u001b[1;33m.\u001b[0m\u001b[0mread_csv\u001b[0m\u001b[1;33m(\u001b[0m\u001b[1;34m'car11.csv'\u001b[0m\u001b[1;33m)\u001b[0m\u001b[1;33m\u001b[0m\u001b[1;33m\u001b[0m\u001b[0m\n\u001b[1;32m---> 14\u001b[1;33m \u001b[0mcar12\u001b[0m \u001b[1;33m=\u001b[0m \u001b[0mpd\u001b[0m\u001b[1;33m.\u001b[0m\u001b[0mread_csv\u001b[0m\u001b[1;33m(\u001b[0m\u001b[1;34m'car12.csv'\u001b[0m\u001b[1;33m)\u001b[0m\u001b[1;33m\u001b[0m\u001b[1;33m\u001b[0m\u001b[0m\n\u001b[0m",
      "\u001b[1;32m~\\Anaconda3\\lib\\site-packages\\pandas\\io\\parsers.py\u001b[0m in \u001b[0;36mparser_f\u001b[1;34m(filepath_or_buffer, sep, delimiter, header, names, index_col, usecols, squeeze, prefix, mangle_dupe_cols, dtype, engine, converters, true_values, false_values, skipinitialspace, skiprows, nrows, na_values, keep_default_na, na_filter, verbose, skip_blank_lines, parse_dates, infer_datetime_format, keep_date_col, date_parser, dayfirst, iterator, chunksize, compression, thousands, decimal, lineterminator, quotechar, quoting, escapechar, comment, encoding, dialect, tupleize_cols, error_bad_lines, warn_bad_lines, skipfooter, doublequote, delim_whitespace, low_memory, memory_map, float_precision)\u001b[0m\n\u001b[0;32m    676\u001b[0m                     skip_blank_lines=skip_blank_lines)\n\u001b[0;32m    677\u001b[0m \u001b[1;33m\u001b[0m\u001b[0m\n\u001b[1;32m--> 678\u001b[1;33m         \u001b[1;32mreturn\u001b[0m \u001b[0m_read\u001b[0m\u001b[1;33m(\u001b[0m\u001b[0mfilepath_or_buffer\u001b[0m\u001b[1;33m,\u001b[0m \u001b[0mkwds\u001b[0m\u001b[1;33m)\u001b[0m\u001b[1;33m\u001b[0m\u001b[1;33m\u001b[0m\u001b[0m\n\u001b[0m\u001b[0;32m    679\u001b[0m \u001b[1;33m\u001b[0m\u001b[0m\n\u001b[0;32m    680\u001b[0m     \u001b[0mparser_f\u001b[0m\u001b[1;33m.\u001b[0m\u001b[0m__name__\u001b[0m \u001b[1;33m=\u001b[0m \u001b[0mname\u001b[0m\u001b[1;33m\u001b[0m\u001b[1;33m\u001b[0m\u001b[0m\n",
      "\u001b[1;32m~\\Anaconda3\\lib\\site-packages\\pandas\\io\\parsers.py\u001b[0m in \u001b[0;36m_read\u001b[1;34m(filepath_or_buffer, kwds)\u001b[0m\n\u001b[0;32m    444\u001b[0m \u001b[1;33m\u001b[0m\u001b[0m\n\u001b[0;32m    445\u001b[0m     \u001b[1;32mtry\u001b[0m\u001b[1;33m:\u001b[0m\u001b[1;33m\u001b[0m\u001b[1;33m\u001b[0m\u001b[0m\n\u001b[1;32m--> 446\u001b[1;33m         \u001b[0mdata\u001b[0m \u001b[1;33m=\u001b[0m \u001b[0mparser\u001b[0m\u001b[1;33m.\u001b[0m\u001b[0mread\u001b[0m\u001b[1;33m(\u001b[0m\u001b[0mnrows\u001b[0m\u001b[1;33m)\u001b[0m\u001b[1;33m\u001b[0m\u001b[1;33m\u001b[0m\u001b[0m\n\u001b[0m\u001b[0;32m    447\u001b[0m     \u001b[1;32mfinally\u001b[0m\u001b[1;33m:\u001b[0m\u001b[1;33m\u001b[0m\u001b[1;33m\u001b[0m\u001b[0m\n\u001b[0;32m    448\u001b[0m         \u001b[0mparser\u001b[0m\u001b[1;33m.\u001b[0m\u001b[0mclose\u001b[0m\u001b[1;33m(\u001b[0m\u001b[1;33m)\u001b[0m\u001b[1;33m\u001b[0m\u001b[1;33m\u001b[0m\u001b[0m\n",
      "\u001b[1;32m~\\Anaconda3\\lib\\site-packages\\pandas\\io\\parsers.py\u001b[0m in \u001b[0;36mread\u001b[1;34m(self, nrows)\u001b[0m\n\u001b[0;32m   1034\u001b[0m                 \u001b[1;32mraise\u001b[0m \u001b[0mValueError\u001b[0m\u001b[1;33m(\u001b[0m\u001b[1;34m'skipfooter not supported for iteration'\u001b[0m\u001b[1;33m)\u001b[0m\u001b[1;33m\u001b[0m\u001b[1;33m\u001b[0m\u001b[0m\n\u001b[0;32m   1035\u001b[0m \u001b[1;33m\u001b[0m\u001b[0m\n\u001b[1;32m-> 1036\u001b[1;33m         \u001b[0mret\u001b[0m \u001b[1;33m=\u001b[0m \u001b[0mself\u001b[0m\u001b[1;33m.\u001b[0m\u001b[0m_engine\u001b[0m\u001b[1;33m.\u001b[0m\u001b[0mread\u001b[0m\u001b[1;33m(\u001b[0m\u001b[0mnrows\u001b[0m\u001b[1;33m)\u001b[0m\u001b[1;33m\u001b[0m\u001b[1;33m\u001b[0m\u001b[0m\n\u001b[0m\u001b[0;32m   1037\u001b[0m \u001b[1;33m\u001b[0m\u001b[0m\n\u001b[0;32m   1038\u001b[0m         \u001b[1;31m# May alter columns / col_dict\u001b[0m\u001b[1;33m\u001b[0m\u001b[1;33m\u001b[0m\u001b[1;33m\u001b[0m\u001b[0m\n",
      "\u001b[1;32m~\\Anaconda3\\lib\\site-packages\\pandas\\io\\parsers.py\u001b[0m in \u001b[0;36mread\u001b[1;34m(self, nrows)\u001b[0m\n\u001b[0;32m   1846\u001b[0m     \u001b[1;32mdef\u001b[0m \u001b[0mread\u001b[0m\u001b[1;33m(\u001b[0m\u001b[0mself\u001b[0m\u001b[1;33m,\u001b[0m \u001b[0mnrows\u001b[0m\u001b[1;33m=\u001b[0m\u001b[1;32mNone\u001b[0m\u001b[1;33m)\u001b[0m\u001b[1;33m:\u001b[0m\u001b[1;33m\u001b[0m\u001b[1;33m\u001b[0m\u001b[0m\n\u001b[0;32m   1847\u001b[0m         \u001b[1;32mtry\u001b[0m\u001b[1;33m:\u001b[0m\u001b[1;33m\u001b[0m\u001b[1;33m\u001b[0m\u001b[0m\n\u001b[1;32m-> 1848\u001b[1;33m             \u001b[0mdata\u001b[0m \u001b[1;33m=\u001b[0m \u001b[0mself\u001b[0m\u001b[1;33m.\u001b[0m\u001b[0m_reader\u001b[0m\u001b[1;33m.\u001b[0m\u001b[0mread\u001b[0m\u001b[1;33m(\u001b[0m\u001b[0mnrows\u001b[0m\u001b[1;33m)\u001b[0m\u001b[1;33m\u001b[0m\u001b[1;33m\u001b[0m\u001b[0m\n\u001b[0m\u001b[0;32m   1849\u001b[0m         \u001b[1;32mexcept\u001b[0m \u001b[0mStopIteration\u001b[0m\u001b[1;33m:\u001b[0m\u001b[1;33m\u001b[0m\u001b[1;33m\u001b[0m\u001b[0m\n\u001b[0;32m   1850\u001b[0m             \u001b[1;32mif\u001b[0m \u001b[0mself\u001b[0m\u001b[1;33m.\u001b[0m\u001b[0m_first_chunk\u001b[0m\u001b[1;33m:\u001b[0m\u001b[1;33m\u001b[0m\u001b[1;33m\u001b[0m\u001b[0m\n",
      "\u001b[1;32mpandas\\_libs\\parsers.pyx\u001b[0m in \u001b[0;36mpandas._libs.parsers.TextReader.read\u001b[1;34m()\u001b[0m\n",
      "\u001b[1;32mpandas\\_libs\\parsers.pyx\u001b[0m in \u001b[0;36mpandas._libs.parsers.TextReader._read_low_memory\u001b[1;34m()\u001b[0m\n",
      "\u001b[1;32mpandas\\_libs\\parsers.pyx\u001b[0m in \u001b[0;36mpandas._libs.parsers.TextReader._read_rows\u001b[1;34m()\u001b[0m\n",
      "\u001b[1;32mpandas\\_libs\\parsers.pyx\u001b[0m in \u001b[0;36mpandas._libs.parsers.TextReader._convert_column_data\u001b[1;34m()\u001b[0m\n",
      "\u001b[1;32mpandas\\_libs\\parsers.pyx\u001b[0m in \u001b[0;36mpandas._libs.parsers.TextReader._convert_tokens\u001b[1;34m()\u001b[0m\n",
      "\u001b[1;32mpandas\\_libs\\parsers.pyx\u001b[0m in \u001b[0;36mpandas._libs.parsers.TextReader._convert_with_dtype\u001b[1;34m()\u001b[0m\n",
      "\u001b[1;32m~\\Anaconda3\\lib\\site-packages\\pandas\\core\\dtypes\\common.py\u001b[0m in \u001b[0;36mis_integer_dtype\u001b[1;34m(arr_or_dtype)\u001b[0m\n\u001b[0;32m    809\u001b[0m \u001b[1;33m\u001b[0m\u001b[0m\n\u001b[0;32m    810\u001b[0m \u001b[1;33m\u001b[0m\u001b[0m\n\u001b[1;32m--> 811\u001b[1;33m \u001b[1;32mdef\u001b[0m \u001b[0mis_integer_dtype\u001b[0m\u001b[1;33m(\u001b[0m\u001b[0marr_or_dtype\u001b[0m\u001b[1;33m)\u001b[0m\u001b[1;33m:\u001b[0m\u001b[1;33m\u001b[0m\u001b[1;33m\u001b[0m\u001b[0m\n\u001b[0m\u001b[0;32m    812\u001b[0m     \"\"\"\n\u001b[0;32m    813\u001b[0m     \u001b[0mCheck\u001b[0m \u001b[0mwhether\u001b[0m \u001b[0mthe\u001b[0m \u001b[0mprovided\u001b[0m \u001b[0marray\u001b[0m \u001b[1;32mor\u001b[0m \u001b[0mdtype\u001b[0m \u001b[1;32mis\u001b[0m \u001b[0mof\u001b[0m \u001b[0man\u001b[0m \u001b[0minteger\u001b[0m \u001b[0mdtype\u001b[0m\u001b[1;33m.\u001b[0m\u001b[1;33m\u001b[0m\u001b[1;33m\u001b[0m\u001b[0m\n",
      "\u001b[1;31mKeyboardInterrupt\u001b[0m: "
     ]
    }
   ],
   "source": [
    "import pandas as pd\n",
    "\n",
    "car1 = pd.read_csv('car1.csv')\n",
    "car2 = pd.read_csv('car2.csv')\n",
    "car3 = pd.read_csv('car3.csv')\n",
    "car4 = pd.read_csv('car4.csv')\n",
    "car5 = pd.read_csv('car5.csv')\n",
    "car6 = pd.read_csv('car6.csv')\n",
    "car7 = pd.read_csv('car7.csv')\n",
    "car8 = pd.read_csv('car8.csv')\n",
    "car9 = pd.read_csv('car9.csv')\n",
    "car10 = pd.read_csv('car10.csv')\n",
    "car11 = pd.read_csv('car11.csv')\n",
    "car12 = pd.read_csv('car12.csv')"
   ]
  },
  {
   "cell_type": "markdown",
   "metadata": {},
   "source": [
    "# 결측치 처리"
   ]
  },
  {
   "cell_type": "code",
   "execution_count": 5,
   "metadata": {},
   "outputs": [],
   "source": [
    "car1 = car1.dropna(subset=['value'])\n",
    "car2 = car2.dropna(subset=['value'])\n",
    "car3 = car3.dropna(subset=['value'])\n",
    "car4 = car4.dropna(subset=['value'])\n",
    "car5 = car5.dropna(subset=['value'])\n",
    "car6 = car6.dropna(subset=['value'])\n",
    "car7 = car7.dropna(subset=['value'])\n",
    "car8 = car8.dropna(subset=['value'])\n",
    "car9 = car9.dropna(subset=['value'])\n",
    "car10 = car10.dropna(subset=['value'])\n",
    "car11 = car11.dropna(subset=['value'])\n",
    "car12 = car12.dropna(subset=['value'])"
   ]
  },
  {
   "cell_type": "code",
   "execution_count": 6,
   "metadata": {},
   "outputs": [
    {
     "data": {
      "text/plain": [
       "date                  0\n",
       "days                  0\n",
       "road_name             0\n",
       "link_id               0\n",
       "start_point           0\n",
       "end_point             0\n",
       "direction             0\n",
       "road_length           0\n",
       "road_num              0\n",
       "road_type             0\n",
       "urban_suburb          0\n",
       "district              0\n",
       "time                  0\n",
       "value                 0\n",
       "cctv              26768\n",
       "kids              26768\n",
       "speed_limit       26768\n",
       "entrance          26768\n",
       "signal            26768\n",
       "d1                65317\n",
       "d2                65317\n",
       "d3                65317\n",
       "d4                65317\n",
       "victims           65317\n",
       "severity          65317\n",
       "accident_count    65317\n",
       "inter_num             0\n",
       "temperature           0\n",
       "wind                  0\n",
       "rain                  0\n",
       "snow                  0\n",
       "holiday               0\n",
       "special               0\n",
       "vacation              0\n",
       "SO2                   0\n",
       "CO                    0\n",
       "O3                    0\n",
       "NO2                   0\n",
       "PM10                  0\n",
       "PM2.5                 0\n",
       "dtype: int64"
      ]
     },
     "execution_count": 6,
     "metadata": {},
     "output_type": "execute_result"
    }
   ],
   "source": [
    "car1.isnull().sum()"
   ]
  },
  {
   "cell_type": "code",
   "execution_count": 7,
   "metadata": {},
   "outputs": [],
   "source": [
    "car1.fillna(value=0, inplace=True)\n",
    "car2.fillna(value=0, inplace=True)\n",
    "car3.fillna(value=0, inplace=True)\n",
    "car4.fillna(value=0, inplace=True)\n",
    "car5.fillna(value=0, inplace=True)\n",
    "car6.fillna(value=0, inplace=True)\n",
    "car7.fillna(value=0, inplace=True)\n",
    "car8.fillna(value=0, inplace=True)\n",
    "car9.fillna(value=0, inplace=True)\n",
    "car10.fillna(value=0, inplace=True)\n",
    "car11.fillna(value=0, inplace=True)\n",
    "car12.fillna(value=0, inplace=True)"
   ]
  },
  {
   "cell_type": "markdown",
   "metadata": {},
   "source": [
    "# 3개구(중구, 강남구, 영등포구만)"
   ]
  },
  {
   "cell_type": "code",
   "execution_count": 8,
   "metadata": {},
   "outputs": [],
   "source": [
    "car1_dd = car1[car1['district'].isin(['동대문구'])]\n",
    "car1_jg = car1[car1['district'].isin(['중구'])]\n",
    "car1_gn = car1[car1['district'].isin(['강남구'])]\n",
    "\n",
    "car2_dd = car2[car2['district'].isin(['동대문구'])]\n",
    "car2_jg = car2[car2['district'].isin(['중구'])]\n",
    "car2_gn = car2[car2['district'].isin(['강남구'])]\n",
    "\n",
    "car3_dd = car3[car3['district'].isin(['동대문구'])]\n",
    "car3_jg = car3[car3['district'].isin(['중구'])]\n",
    "car3_gn = car3[car3['district'].isin(['강남구'])]\n",
    "\n",
    "car4_dd = car4[car4['district'].isin(['동대문구'])]\n",
    "car4_jg = car4[car4['district'].isin(['중구'])]\n",
    "car4_gn = car4[car4['district'].isin(['강남구'])]\n",
    "\n",
    "car5_dd = car5[car5['district'].isin(['동대문구'])]\n",
    "car5_jg = car5[car5['district'].isin(['중구'])]\n",
    "car5_gn = car5[car5['district'].isin(['강남구'])]\n",
    "\n",
    "car6_dd = car6[car6['district'].isin(['동대문구'])]\n",
    "car6_jg = car6[car6['district'].isin(['중구'])]\n",
    "car6_gn = car6[car6['district'].isin(['강남구'])]\n",
    "\n",
    "car7_dd = car7[car7['district'].isin(['동대문구'])]\n",
    "car7_jg = car7[car7['district'].isin(['중구'])]\n",
    "car7_gn = car7[car7['district'].isin(['강남구'])]\n",
    "\n",
    "car8_dd = car8[car8['district'].isin(['동대문구'])]\n",
    "car8_jg = car8[car8['district'].isin(['중구'])]\n",
    "car8_gn = car8[car8['district'].isin(['강남구'])]\n",
    "\n",
    "car9_dd = car9[car9['district'].isin(['동대문구'])]\n",
    "car9_jg = car9[car9['district'].isin(['중구'])]\n",
    "car9_gn = car9[car9['district'].isin(['강남구'])]\n",
    "\n",
    "car10_dd = car10[car10['district'].isin(['동대문구'])]\n",
    "car10_jg = car10[car10['district'].isin(['중구'])]\n",
    "car10_gn = car10[car10['district'].isin(['강남구'])]\n",
    "\n",
    "car11_dd = car11[car11['district'].isin(['동대문구'])]\n",
    "car11_jg = car11[car11['district'].isin(['중구'])]\n",
    "car11_gn = car11[car11['district'].isin(['강남구'])]\n",
    "\n",
    "car12_dd = car12[car12['district'].isin(['동대문구'])]\n",
    "car12_jg = car12[car12['district'].isin(['중구'])]\n",
    "car12_gn = car12[car12['district'].isin(['강남구'])]"
   ]
  },
  {
   "cell_type": "markdown",
   "metadata": {},
   "source": [
    "# concat"
   ]
  },
  {
   "cell_type": "code",
   "execution_count": 9,
   "metadata": {},
   "outputs": [
    {
     "name": "stdout",
     "output_type": "stream",
     "text": [
      "(1154911, 40)\n"
     ]
    }
   ],
   "source": [
    "# 동대문구\n",
    "car_dd = pd.concat([car1_dd,car2_dd])\n",
    "car_dd = pd.concat([car_dd, car3_dd])\n",
    "car_dd = pd.concat([car_dd, car4_dd])\n",
    "car_dd = pd.concat([car_dd, car5_dd])\n",
    "car_dd = pd.concat([car_dd, car6_dd])\n",
    "car_dd = pd.concat([car_dd, car8_dd])\n",
    "car_dd = pd.concat([car_dd, car9_dd])\n",
    "car_dd = pd.concat([car_dd, car10_dd])\n",
    "car_dd = pd.concat([car_dd, car11_dd])\n",
    "car_dd = pd.concat([car_dd, car12_dd])\n",
    "\n",
    "car_dd = pd.DataFrame(car_dd)\n",
    "print(car_dd.shape)"
   ]
  },
  {
   "cell_type": "code",
   "execution_count": 10,
   "metadata": {},
   "outputs": [
    {
     "name": "stdout",
     "output_type": "stream",
     "text": [
      "(1232205, 40)\n"
     ]
    }
   ],
   "source": [
    "# 중구\n",
    "car_jg = pd.concat([car1_jg,car2_jg])\n",
    "car_jg = pd.concat([car_jg, car3_jg])\n",
    "car_jg = pd.concat([car_jg, car4_jg])\n",
    "car_jg = pd.concat([car_jg, car5_jg])\n",
    "car_jg = pd.concat([car_jg, car6_jg])\n",
    "car_jg = pd.concat([car_jg, car8_jg])\n",
    "car_jg = pd.concat([car_jg, car9_jg])\n",
    "car_jg = pd.concat([car_jg, car10_jg])\n",
    "car_jg = pd.concat([car_jg, car11_jg])\n",
    "car_jg = pd.concat([car_jg, car12_jg])\n",
    "\n",
    "car_jg = pd.DataFrame(car_jg)\n",
    "print(car_jg.shape)"
   ]
  },
  {
   "cell_type": "code",
   "execution_count": 11,
   "metadata": {},
   "outputs": [
    {
     "name": "stdout",
     "output_type": "stream",
     "text": [
      "(1752238, 40)\n"
     ]
    }
   ],
   "source": [
    "# 강남구\n",
    "car_gn = pd.concat([car1_gn,car2_gn])\n",
    "car_gn = pd.concat([car_gn, car3_gn])\n",
    "car_gn = pd.concat([car_gn, car4_gn])\n",
    "car_gn = pd.concat([car_gn, car5_gn])\n",
    "car_gn = pd.concat([car_gn, car6_gn])\n",
    "car_gn = pd.concat([car_gn, car8_gn])\n",
    "car_gn = pd.concat([car_gn, car9_gn])\n",
    "car_gn = pd.concat([car_gn, car10_gn])\n",
    "car_gn = pd.concat([car_gn, car11_gn])\n",
    "car_gn = pd.concat([car_gn, car12_gn])\n",
    "\n",
    "car_gn = pd.DataFrame(car_gn)\n",
    "print(car_gn.shape)"
   ]
  },
  {
   "cell_type": "code",
   "execution_count": 12,
   "metadata": {},
   "outputs": [],
   "source": [
    "car_dd.to_csv(\"car_dd.csv\",index=False)"
   ]
  },
  {
   "cell_type": "code",
   "execution_count": 13,
   "metadata": {},
   "outputs": [],
   "source": [
    "car_jg.to_csv(\"car_jg.csv\",index=False)"
   ]
  },
  {
   "cell_type": "code",
   "execution_count": 14,
   "metadata": {},
   "outputs": [],
   "source": [
    "car_gn.to_csv(\"car_gn.csv\",index=False)"
   ]
  },
  {
   "cell_type": "code",
   "execution_count": null,
   "metadata": {},
   "outputs": [],
   "source": []
  }
 ],
 "metadata": {
  "kernelspec": {
   "display_name": "Python 3",
   "language": "python",
   "name": "python3"
  },
  "language_info": {
   "codemirror_mode": {
    "name": "ipython",
    "version": 3
   },
   "file_extension": ".py",
   "mimetype": "text/x-python",
   "name": "python",
   "nbconvert_exporter": "python",
   "pygments_lexer": "ipython3",
   "version": "3.7.1"
  }
 },
 "nbformat": 4,
 "nbformat_minor": 2
}
