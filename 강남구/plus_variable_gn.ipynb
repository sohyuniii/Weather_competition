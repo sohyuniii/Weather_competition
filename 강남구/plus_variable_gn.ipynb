{
 "cells": [
  {
   "cell_type": "code",
   "execution_count": 14,
   "metadata": {},
   "outputs": [],
   "source": [
    "import pandas as pd\n",
    "import numpy as np\n",
    "df = pd.read_csv('car_gn.csv')\n",
    "cluster_df = pd.read_csv('cluster3_car_gn.csv')"
   ]
  },
  {
   "cell_type": "code",
   "execution_count": 15,
   "metadata": {},
   "outputs": [],
   "source": [
    "cluster_df = cluster_df[['link_id','cluster']]"
   ]
  },
  {
   "cell_type": "code",
   "execution_count": 16,
   "metadata": {},
   "outputs": [],
   "source": [
    "df = pd.merge(df,cluster_df)"
   ]
  },
  {
   "cell_type": "code",
   "execution_count": 17,
   "metadata": {},
   "outputs": [],
   "source": [
    "def rain_level(rain) :\n",
    "    if rain >= 30 :\n",
    "        return 3\n",
    "    else :\n",
    "        if rain >=15 :\n",
    "            return 2\n",
    "        else :\n",
    "            if rain >=3 :\n",
    "                return 1\n",
    "            else : return 0\n",
    "\n",
    "def dust_PM2_level(dust) :\n",
    "    if dust >= 76 :\n",
    "        return 3\n",
    "    else :\n",
    "        if dust >=36 :\n",
    "            return 2\n",
    "        else :\n",
    "            if dust >=16 :\n",
    "                return 1\n",
    "            else : return 0      \n",
    "\n",
    "def dust_PM10_level(dust) :\n",
    "    if dust >= 151 :\n",
    "        return 3\n",
    "    else :\n",
    "        if dust >=81 :\n",
    "            return 2\n",
    "        else :\n",
    "            if dust >=31 :\n",
    "                return 1\n",
    "            else : return 0\n",
    "\n",
    "def wind_level(wind) :\n",
    "    if wind >= 14 :\n",
    "        return 3\n",
    "    else :\n",
    "        if wind >=9 :\n",
    "            return 2\n",
    "        else :\n",
    "            if wind >=4 :\n",
    "                return 1\n",
    "            else : return 0\n",
    "\n",
    "def O3_level(O3) :\n",
    "    if O3 >= 0.151 :\n",
    "        return 3\n",
    "    else :\n",
    "        if O3 >=0.091 :\n",
    "            return 2\n",
    "        else :\n",
    "            if O3 >=0.031 :\n",
    "                return 1\n",
    "            else : return 0\n",
    "            \n",
    "df['dust_PM10_level'] = df['PM10'].apply(lambda x : dust_PM10_level(x))\n",
    "df['dust_PM2_level'] = df['PM2.5'].apply(lambda x : dust_PM2_level(x))\n",
    "df['rain_level'] = df['rain'].apply(lambda x : rain_level(x))       \n",
    "df['wind_level'] = df['wind'].apply(lambda x : wind_level(x))            \n",
    "df['O3_level'] = df['O3'].apply(lambda x : O3_level(x))\n",
    "\n",
    "df['hsv'] = df['holiday'] + df['special'] + df['vacation']\n",
    "df['cctv_kids'] = df['cctv'] + df['kids']\n",
    "\n",
    "df['cctv_length'] = df['cctv'] / df['road_length']\n",
    "df['kids_length'] = df['kids'] / df['road_length']\n",
    "df['entrance_length'] = df['entrance'] / df['road_length']\n",
    "df['signal_length'] = df['signal'] / df['road_length']\n",
    "\n",
    "df['cctv_num'] = df['cctv'] / df['inter_num']\n",
    "df['kids_num'] = df['kids'] / df['inter_num']\n",
    "df['entrance_num'] = df['entrance'] / df['inter_num']\n",
    "df['signal_num'] = df['signal'] / df['inter_num']\n",
    "\n",
    "bins = [0,500,1000,1500,2000,4000]\n",
    "bins_names = [0,1,2,3,4] # 구간별 이름\n",
    "df['severity_level'] = pd.cut(df['severity'], bins, labels=bins_names)\n",
    "\n",
    "bins = [-40,-10,10,20,30,50]\n",
    "bins_names = [0,1,2,3,4] # 구간별 이름\n",
    "df['temp_level'] = pd.cut(df['temperature'], bins, labels=bins_names)"
   ]
  },
  {
   "cell_type": "code",
   "execution_count": 33,
   "metadata": {},
   "outputs": [],
   "source": [
    "cols = ['d1', 'd2', 'd3', 'd4','victims', 'severity', 'accident_count']\n",
    "\n",
    "for col in cols :\n",
    "    df[col + '_length'] = df[col] / df['road_length']\n",
    "    df[col + '_num'] = df[col] / df['inter_num']\n",
    "    \n",
    "df['month'] = df['date'].apply(lambda x : int(str(x)[4:6]))  \n",
    "\n",
    "def seasonal(month) :\n",
    "    if (month <= 5) & (month >= 3):\n",
    "        return 0\n",
    "    elif (month >= 6) & (month >= 8):\n",
    "        return 1\n",
    "    elif (month >= 9) & (month >= 11):\n",
    "        return 2\n",
    "    else :\n",
    "        return 3\n",
    "df['season'] = df['month'].apply(lambda x : seasonal(x))"
   ]
  },
  {
   "cell_type": "code",
   "execution_count": 34,
   "metadata": {},
   "outputs": [
    {
     "data": {
      "text/plain": [
       "Index(['date', 'days', 'road_name', 'link_id', 'start_point', 'end_point',\n",
       "       'direction', 'road_length', 'road_num', 'road_type', 'urban_suburb',\n",
       "       'district', 'time', 'value', 'cctv', 'kids', 'speed_limit', 'entrance',\n",
       "       'signal', 'd1', 'd2', 'd3', 'd4', 'victims', 'severity',\n",
       "       'accident_count', 'inter_num', 'temperature', 'wind', 'rain', 'snow',\n",
       "       'holiday', 'special', 'vacation', 'SO2', 'CO', 'O3', 'NO2', 'PM10',\n",
       "       'PM2.5', 'cluster', 'dust_PM10_level', 'dust_PM2_level', 'rain_level',\n",
       "       'wind_level', 'O3_level', 'hsv', 'cctv_kids', 'cctv_length',\n",
       "       'kids_length', 'entrance_length', 'signal_length', 'cctv_num',\n",
       "       'kids_num', 'entrance_num', 'signal_num', 'severity_level',\n",
       "       'temp_level', 'd1_length', 'd1_num', 'd2_length', 'd2_num', 'd3_length',\n",
       "       'd3_num', 'd4_length', 'd4_num', 'victims_length', 'victims_num',\n",
       "       'severity_length', 'severity_num', 'accident_count_length',\n",
       "       'accident_count_num', 'month', 'season'],\n",
       "      dtype='object')"
      ]
     },
     "execution_count": 34,
     "metadata": {},
     "output_type": "execute_result"
    }
   ],
   "source": [
    "df.columns"
   ]
  },
  {
   "cell_type": "code",
   "execution_count": 36,
   "metadata": {},
   "outputs": [],
   "source": [
    "cluster0 = df[df['cluster']==0]\n",
    "cluster1 = df[df['cluster']==1]\n",
    "cluster2 = df[df['cluster']==2]"
   ]
  },
  {
   "cell_type": "code",
   "execution_count": 37,
   "metadata": {},
   "outputs": [],
   "source": [
    "cluster0.to_csv('car_gn_cluster0.csv',encoding='utf-8',index=False)\n",
    "cluster1.to_csv('car_gn_cluster1.csv',encoding='utf-8',index=False)\n",
    "cluster2.to_csv('car_gn_cluster2.csv',encoding='utf-8',index=False)"
   ]
  },
  {
   "cell_type": "code",
   "execution_count": 38,
   "metadata": {},
   "outputs": [],
   "source": []
  },
  {
   "cell_type": "code",
   "execution_count": null,
   "metadata": {},
   "outputs": [],
   "source": []
  }
 ],
 "metadata": {
  "kernelspec": {
   "display_name": "Python 3",
   "language": "python",
   "name": "python3"
  },
  "language_info": {
   "codemirror_mode": {
    "name": "ipython",
    "version": 3
   },
   "file_extension": ".py",
   "mimetype": "text/x-python",
   "name": "python",
   "nbconvert_exporter": "python",
   "pygments_lexer": "ipython3",
   "version": "3.5.2"
  }
 },
 "nbformat": 4,
 "nbformat_minor": 2
}
