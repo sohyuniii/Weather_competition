{
 "cells": [
  {
   "cell_type": "code",
   "execution_count": 13,
   "metadata": {},
   "outputs": [
    {
     "data": {
      "text/html": [
       "<div>\n",
       "<style scoped>\n",
       "    .dataframe tbody tr th:only-of-type {\n",
       "        vertical-align: middle;\n",
       "    }\n",
       "\n",
       "    .dataframe tbody tr th {\n",
       "        vertical-align: top;\n",
       "    }\n",
       "\n",
       "    .dataframe thead th {\n",
       "        text-align: right;\n",
       "    }\n",
       "</style>\n",
       "<table border=\"1\" class=\"dataframe\">\n",
       "  <thead>\n",
       "    <tr style=\"text-align: right;\">\n",
       "      <th></th>\n",
       "      <th>date</th>\n",
       "      <th>days</th>\n",
       "      <th>road_name</th>\n",
       "      <th>link_id</th>\n",
       "      <th>start_point</th>\n",
       "      <th>end_point</th>\n",
       "      <th>direction</th>\n",
       "      <th>road_length</th>\n",
       "      <th>road_num</th>\n",
       "      <th>road_type</th>\n",
       "      <th>...</th>\n",
       "      <th>d4_length</th>\n",
       "      <th>d4_num</th>\n",
       "      <th>victims_length</th>\n",
       "      <th>victims_num</th>\n",
       "      <th>severity_length</th>\n",
       "      <th>severity_num</th>\n",
       "      <th>accident_count_length</th>\n",
       "      <th>accident_count_num</th>\n",
       "      <th>month</th>\n",
       "      <th>season</th>\n",
       "    </tr>\n",
       "  </thead>\n",
       "  <tbody>\n",
       "    <tr>\n",
       "      <th>0</th>\n",
       "      <td>20180101</td>\n",
       "      <td>월</td>\n",
       "      <td>강남대로</td>\n",
       "      <td>1220021100</td>\n",
       "      <td>우성아파트</td>\n",
       "      <td>강남역</td>\n",
       "      <td>상행</td>\n",
       "      <td>586</td>\n",
       "      <td>5.0</td>\n",
       "      <td>주간선도로</td>\n",
       "      <td>...</td>\n",
       "      <td>0.047782</td>\n",
       "      <td>1.866667</td>\n",
       "      <td>0.74744</td>\n",
       "      <td>29.2</td>\n",
       "      <td>2.192833</td>\n",
       "      <td>85.666667</td>\n",
       "      <td>0.477816</td>\n",
       "      <td>18.666667</td>\n",
       "      <td>1</td>\n",
       "      <td>3</td>\n",
       "    </tr>\n",
       "    <tr>\n",
       "      <th>1</th>\n",
       "      <td>20180101</td>\n",
       "      <td>월</td>\n",
       "      <td>강남대로</td>\n",
       "      <td>1220021100</td>\n",
       "      <td>우성아파트</td>\n",
       "      <td>강남역</td>\n",
       "      <td>상행</td>\n",
       "      <td>586</td>\n",
       "      <td>5.0</td>\n",
       "      <td>주간선도로</td>\n",
       "      <td>...</td>\n",
       "      <td>0.047782</td>\n",
       "      <td>1.866667</td>\n",
       "      <td>0.74744</td>\n",
       "      <td>29.2</td>\n",
       "      <td>2.192833</td>\n",
       "      <td>85.666667</td>\n",
       "      <td>0.477816</td>\n",
       "      <td>18.666667</td>\n",
       "      <td>1</td>\n",
       "      <td>3</td>\n",
       "    </tr>\n",
       "  </tbody>\n",
       "</table>\n",
       "<p>2 rows × 74 columns</p>\n",
       "</div>"
      ],
      "text/plain": [
       "       date days road_name     link_id start_point end_point direction  \\\n",
       "0  20180101    월      강남대로  1220021100       우성아파트       강남역        상행   \n",
       "1  20180101    월      강남대로  1220021100       우성아파트       강남역        상행   \n",
       "\n",
       "   road_length  road_num road_type  ... d4_length    d4_num  victims_length  \\\n",
       "0          586       5.0     주간선도로  ...  0.047782  1.866667         0.74744   \n",
       "1          586       5.0     주간선도로  ...  0.047782  1.866667         0.74744   \n",
       "\n",
       "   victims_num  severity_length  severity_num  accident_count_length  \\\n",
       "0         29.2         2.192833     85.666667               0.477816   \n",
       "1         29.2         2.192833     85.666667               0.477816   \n",
       "\n",
       "   accident_count_num  month  season  \n",
       "0           18.666667      1       3  \n",
       "1           18.666667      1       3  \n",
       "\n",
       "[2 rows x 74 columns]"
      ]
     },
     "execution_count": 13,
     "metadata": {},
     "output_type": "execute_result"
    }
   ],
   "source": [
    "import pandas as pd\n",
    "import numpy as np\n",
    "import matplotlib.pyplot as plt\n",
    "import seaborn as sns\n",
    "import warnings\n",
    "warnings.filterwarnings('ignore')\n",
    "df = pd.read_csv('car_gn_cluster2.csv')\n",
    "df.head(2)"
   ]
  },
  {
   "cell_type": "code",
   "execution_count": 14,
   "metadata": {},
   "outputs": [],
   "source": [
    "from sklearn.preprocessing import LabelEncoder\n",
    "\n",
    "lb_make = LabelEncoder()\n",
    "df[\"days\"] = lb_make.fit_transform(df[\"days\"])\n",
    "df[\"direction\"] = lb_make.fit_transform(df[\"direction\"])\n",
    "df[\"road_type\"] = lb_make.fit_transform(df[\"road_type\"])\n",
    "df[\"urban_suburb\"] = lb_make.fit_transform(df[\"urban_suburb\"])\n",
    "df[\"district\"] = lb_make.fit_transform(df[\"district\"])\n",
    "df[\"time\"] = lb_make.fit_transform(df[\"time\"])"
   ]
  },
  {
   "cell_type": "code",
   "execution_count": 15,
   "metadata": {},
   "outputs": [],
   "source": [
    "cols = ['days','time','road_type','month','temp_level','rain_level','dust_PM10_level',\n",
    "       'dust_PM2_level', 'rain_level', 'wind_level', 'O3_level','severity_level']\n",
    "\n",
    "df_dummy = pd.get_dummies(df, columns=cols)\n",
    "df = pd.concat([df_dummy, df[cols]], axis = 1)"
   ]
  },
  {
   "cell_type": "code",
   "execution_count": 16,
   "metadata": {},
   "outputs": [
    {
     "data": {
      "text/html": [
       "<div>\n",
       "<style scoped>\n",
       "    .dataframe tbody tr th:only-of-type {\n",
       "        vertical-align: middle;\n",
       "    }\n",
       "\n",
       "    .dataframe tbody tr th {\n",
       "        vertical-align: top;\n",
       "    }\n",
       "\n",
       "    .dataframe thead th {\n",
       "        text-align: right;\n",
       "    }\n",
       "</style>\n",
       "<table border=\"1\" class=\"dataframe\">\n",
       "  <thead>\n",
       "    <tr style=\"text-align: right;\">\n",
       "      <th></th>\n",
       "      <th>date</th>\n",
       "      <th>road_name</th>\n",
       "      <th>link_id</th>\n",
       "      <th>start_point</th>\n",
       "      <th>end_point</th>\n",
       "      <th>direction</th>\n",
       "      <th>road_length</th>\n",
       "      <th>road_num</th>\n",
       "      <th>urban_suburb</th>\n",
       "      <th>value</th>\n",
       "      <th>...</th>\n",
       "      <th>road_type</th>\n",
       "      <th>month</th>\n",
       "      <th>temp_level</th>\n",
       "      <th>rain_level</th>\n",
       "      <th>dust_PM10_level</th>\n",
       "      <th>dust_PM2_level</th>\n",
       "      <th>rain_level</th>\n",
       "      <th>wind_level</th>\n",
       "      <th>O3_level</th>\n",
       "      <th>severity_level</th>\n",
       "    </tr>\n",
       "  </thead>\n",
       "  <tbody>\n",
       "    <tr>\n",
       "      <th>0</th>\n",
       "      <td>20180101</td>\n",
       "      <td>강남대로</td>\n",
       "      <td>1220021100</td>\n",
       "      <td>우성아파트</td>\n",
       "      <td>강남역</td>\n",
       "      <td>0</td>\n",
       "      <td>586</td>\n",
       "      <td>5.0</td>\n",
       "      <td>0</td>\n",
       "      <td>26.95</td>\n",
       "      <td>...</td>\n",
       "      <td>1</td>\n",
       "      <td>1</td>\n",
       "      <td>1</td>\n",
       "      <td>0</td>\n",
       "      <td>1</td>\n",
       "      <td>1</td>\n",
       "      <td>0</td>\n",
       "      <td>0</td>\n",
       "      <td>0</td>\n",
       "      <td>2</td>\n",
       "    </tr>\n",
       "    <tr>\n",
       "      <th>1</th>\n",
       "      <td>20180101</td>\n",
       "      <td>강남대로</td>\n",
       "      <td>1220021100</td>\n",
       "      <td>우성아파트</td>\n",
       "      <td>강남역</td>\n",
       "      <td>0</td>\n",
       "      <td>586</td>\n",
       "      <td>5.0</td>\n",
       "      <td>0</td>\n",
       "      <td>26.10</td>\n",
       "      <td>...</td>\n",
       "      <td>1</td>\n",
       "      <td>1</td>\n",
       "      <td>1</td>\n",
       "      <td>0</td>\n",
       "      <td>1</td>\n",
       "      <td>1</td>\n",
       "      <td>0</td>\n",
       "      <td>0</td>\n",
       "      <td>0</td>\n",
       "      <td>2</td>\n",
       "    </tr>\n",
       "  </tbody>\n",
       "</table>\n",
       "<p>2 rows × 142 columns</p>\n",
       "</div>"
      ],
      "text/plain": [
       "       date road_name     link_id start_point end_point  direction  \\\n",
       "0  20180101      강남대로  1220021100       우성아파트       강남역          0   \n",
       "1  20180101      강남대로  1220021100       우성아파트       강남역          0   \n",
       "\n",
       "   road_length  road_num  urban_suburb  value  ...  road_type  month  \\\n",
       "0          586       5.0             0  26.95  ...          1      1   \n",
       "1          586       5.0             0  26.10  ...          1      1   \n",
       "\n",
       "   temp_level  rain_level  dust_PM10_level  dust_PM2_level  rain_level  \\\n",
       "0           1           0                1               1           0   \n",
       "1           1           0                1               1           0   \n",
       "\n",
       "   wind_level  O3_level  severity_level  \n",
       "0           0         0               2  \n",
       "1           0         0               2  \n",
       "\n",
       "[2 rows x 142 columns]"
      ]
     },
     "execution_count": 16,
     "metadata": {},
     "output_type": "execute_result"
    }
   ],
   "source": [
    "df.drop(['cluster','district'],axis = 1,inplace=True)\n",
    "df.head(2)"
   ]
  },
  {
   "cell_type": "code",
   "execution_count": null,
   "metadata": {},
   "outputs": [],
   "source": []
  },
  {
   "cell_type": "code",
   "execution_count": 17,
   "metadata": {},
   "outputs": [],
   "source": [
    "from sklearn.model_selection import train_test_split\n",
    "X_train, X_test, y_train, y_test = train_test_split(df.drop(['date','road_name','link_id','start_point','end_point','value'],axis = 1), df['value'], test_size=0.3, random_state=333)"
   ]
  },
  {
   "cell_type": "code",
   "execution_count": 18,
   "metadata": {},
   "outputs": [],
   "source": [
    "X_train = X_train.reset_index(drop=True)\n",
    "X_test = X_test.reset_index(drop=True)\n",
    "y_train = y_train.reset_index(drop=True)\n",
    "y_test = y_test.reset_index(drop=True)"
   ]
  },
  {
   "cell_type": "code",
   "execution_count": 19,
   "metadata": {},
   "outputs": [],
   "source": [
    "from sklearn.metrics import mean_squared_error\n",
    "\n",
    "def rmse(y_true, y_pred) : \n",
    "    return np.sqrt(mean_squared_error(y_true, y_pred))\n",
    "\n",
    "def model_cv_test(model, train_X, train_y, test_X, test_y, is_log) :\n",
    "\n",
    "    train_rmse = []\n",
    "    valid_rmse = []\n",
    "    \n",
    "    print('##### {} #####'.format(model.__class__.__name__))\n",
    "        \n",
    "    for i, (train_idx, val_idx) in enumerate(kf.split(train_X)):\n",
    "        X_train, X_val = train_X.iloc[train_idx, :], train_X.iloc[val_idx, :]\n",
    "        y_train, y_val = train_y[train_idx], train_y[val_idx]\n",
    "\n",
    "        model.fit(X_train, y_train)\n",
    "        \n",
    "        if is_log :\n",
    "            y_train = np.expm1(y_train)\n",
    "            y_val = np.expm1(y_val)\n",
    "            pred_train = np.expm1(model.predict(X_train))\n",
    "            pred_valid = np.expm1(model.predict(X_val))\n",
    "        else :\n",
    "            pred_train = model.predict(X_train)\n",
    "            pred_valid = model.predict(X_val)\n",
    "\n",
    "        print('{0} fold train rmse : {1:.3f} valid rmse : {2:.3f}'.format(i, rmse(y_train, pred_train), rmse(y_val, pred_valid)))\n",
    "        \n",
    "        train_rmse.append(rmse(y_train, pred_train))\n",
    "        valid_rmse.append(rmse(y_val, pred_valid))\n",
    "\n",
    "    print('\\n')    \n",
    "    print('mean train rmse : {0:.3f} mean valid rmse : {1:.3f}'.format(np.mean(train_rmse), np.mean(valid_rmse)))\n",
    "\n",
    "    \n",
    "    model.fit(train_X, train_y)\n",
    "    \n",
    "    if is_log :\n",
    "        test_y = np.expm1(test_y)\n",
    "        pred_test = np.expm1(model.predict(test_X))\n",
    "    else :\n",
    "        pred_test = model.predict(test_X)\n",
    "    \n",
    "    print('test rmse {0:.3f} '.format(rmse(test_y, pred_test)))\n",
    "    \n",
    "from sklearn.model_selection import KFold\n",
    "kf = KFold(n_splits = 3, random_state = 333)"
   ]
  },
  {
   "cell_type": "code",
   "execution_count": 8,
   "metadata": {},
   "outputs": [],
   "source": [
    "from sklearn.linear_model import LinearRegression, Lasso, Ridge\n",
    "lr = LinearRegression()"
   ]
  },
  {
   "cell_type": "code",
   "execution_count": 9,
   "metadata": {},
   "outputs": [],
   "source": [
    "from sklearn.preprocessing import StandardScaler\n",
    "sc = StandardScaler()\n",
    "\n",
    "sc.fit(X_train)\n",
    "X_train_sc = pd.DataFrame(sc.transform(X_train))\n",
    "X_test_sc = pd.DataFrame(sc.transform(X_test))"
   ]
  },
  {
   "cell_type": "code",
   "execution_count": 116,
   "metadata": {},
   "outputs": [
    {
     "name": "stdout",
     "output_type": "stream",
     "text": [
      "##### LinearRegression #####\n",
      "0 fold train rmse : 9.680 valid rmse : 9.684\n",
      "1 fold train rmse : 9.657 valid rmse : 9.731\n",
      "2 fold train rmse : 9.703 valid rmse : 9.638\n",
      "\n",
      "\n",
      "mean train rmse : 9.680 mean valid rmse : 9.684\n",
      "test rmse 9.701 \n"
     ]
    }
   ],
   "source": [
    "model_cv_test(lr, X_train, y_train, X_test, y_test, False)"
   ]
  },
  {
   "cell_type": "code",
   "execution_count": 117,
   "metadata": {},
   "outputs": [
    {
     "name": "stdout",
     "output_type": "stream",
     "text": [
      "##### Ridge #####\n",
      "0 fold train rmse : 9.680 valid rmse : 9.684\n",
      "1 fold train rmse : 9.657 valid rmse : 9.731\n",
      "2 fold train rmse : 9.704 valid rmse : 9.638\n",
      "\n",
      "\n",
      "mean train rmse : 9.680 mean valid rmse : 9.684\n",
      "test rmse 9.701 \n"
     ]
    }
   ],
   "source": [
    "ridge = Ridge()\n",
    "model_cv_test(ridge, X_train_sc, y_train, X_test_sc, y_test, False)"
   ]
  },
  {
   "cell_type": "code",
   "execution_count": 20,
   "metadata": {},
   "outputs": [],
   "source": [
    "from sklearn.ensemble import RandomForestRegressor\n",
    "rf = RandomForestRegressor(n_jobs = -1)\n",
    "#model_cv_test(rf, X_train, y_train, X_test, y_test, False)"
   ]
  },
  {
   "cell_type": "code",
   "execution_count": 21,
   "metadata": {},
   "outputs": [
    {
     "data": {
      "text/plain": [
       "RandomForestRegressor(bootstrap=True, criterion='mse', max_depth=None,\n",
       "           max_features='auto', max_leaf_nodes=None,\n",
       "           min_impurity_decrease=0.0, min_impurity_split=None,\n",
       "           min_samples_leaf=1, min_samples_split=2,\n",
       "           min_weight_fraction_leaf=0.0, n_estimators=10, n_jobs=-1,\n",
       "           oob_score=False, random_state=None, verbose=0, warm_start=False)"
      ]
     },
     "execution_count": 21,
     "metadata": {},
     "output_type": "execute_result"
    }
   ],
   "source": [
    "rf.fit(X_train,y_train)"
   ]
  },
  {
   "cell_type": "code",
   "execution_count": 22,
   "metadata": {},
   "outputs": [
    {
     "data": {
      "image/png": "[encoded data removed]",
      "text/plain": [
       "<Figure size 1440x720 with 1 Axes>"
      ]
     },
     "metadata": {},
     "output_type": "display_data"
    }
   ],
   "source": [
    "feature_imp = pd.DataFrame(sorted(zip(rf.feature_importances_, X_train.columns)), columns=['Value','Feature'])\n",
    "\n",
    "sns.set(font_scale=2)\n",
    "plt.figure(figsize=(20, 10))\n",
    "sns.barplot(x=\"Value\", y=\"Feature\", data=feature_imp.sort_values(by=\"Value\", ascending=False)[:10])\n",
    "plt.title('RandomForest Feature Importance')\n",
    "plt.tight_layout()\n",
    "plt.show()"
   ]
  },
  {
   "cell_type": "code",
   "execution_count": null,
   "metadata": {},
   "outputs": [],
   "source": []
  }
 ],
 "metadata": {
  "kernelspec": {
   "display_name": "Python 3",
   "language": "python",
   "name": "python3"
  },
  "language_info": {
   "codemirror_mode": {
    "name": "ipython",
    "version": 3
   },
   "file_extension": ".py",
   "mimetype": "text/x-python",
   "name": "python",
   "nbconvert_exporter": "python",
   "pygments_lexer": "ipython3",
   "version": "3.5.2"
  }
 },
 "nbformat": 4,
 "nbformat_minor": 2
}
